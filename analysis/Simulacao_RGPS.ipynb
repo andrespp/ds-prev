{
 "cells": [
  {
   "cell_type": "code",
   "execution_count": 1,
   "metadata": {},
   "outputs": [],
   "source": [
    "import numpy as np\n",
    "import pandas as pd\n",
    "import psycopg2\n",
    "import pandas.io.sql as sqlio\n",
    "import matplotlib.pyplot as plt\n",
    "import model.dsprev as dp\n",
    "\n",
    "# Parâmetros da simulação\n",
    "i = np.arange(0,151,1)        # [0,150]\n",
    "t = np.arange(2016,2036,1)    # [2016, 2035]\n",
    "s = np.array([1, 3 ,9])\n",
    "c = np.array([1, 2, 9])\n",
    "k = [32, # Aposentadoria por invalidez previdenciária \n",
    "     41, # Aposentadoria por idade \n",
    "     42, # Aposentadoria por tempo de serviço previdenciária\n",
    "     46, # Aposentadoria por tempo de serviço especial \n",
    "     57]  #Aposentadoria por tempo de serviço de professor\n",
    "\n",
    "dbtable = 'FATO_AUXILIO_SAMPLE'\n",
    "#dbtable = 'FATO_AUXILIO'\n",
    "\n",
    "# Conection parameters\n",
    "host='tama'\n",
    "port='5432'\n",
    "dbname='prevdb'\n",
    "user='prevdb_user'\n",
    "pwd='pr3v'"
   ]
  },
  {
   "cell_type": "markdown",
   "metadata": {},
   "source": [
    "# Simulação RGPS"
   ]
  },
  {
   "cell_type": "markdown",
   "metadata": {
    "toc-hr-collapsed": true
   },
   "source": [
    "# Variáveis em modelos de Projeção"
   ]
  },
  {
   "cell_type": "markdown",
   "metadata": {
    "toc-hr-collapsed": false
   },
   "source": [
    "## Variáveis demográficas"
   ]
  },
  {
   "cell_type": "markdown",
   "metadata": {},
   "source": [
    "**Pilares** (COSTANZI; ANSILEIRO, 2017):\n",
    "* **Queda da mortalidade** (inicialmente a infantil)\n",
    " * Melhorias em saúde pública, nível educacional, saneamento básico, ...\n",
    "* **Diminuição na taxa de fecundidade**\n",
    " * Retardo no inívio da vida produtiva, contrele da fecundidade, ...\n",
    "* **Efeitos do padrão moderno de crescimento econômico**\n",
    " * Impacto na mobilidade dos indivíduos e na dinâmica do crescimento populacional"
   ]
  },
  {
   "cell_type": "markdown",
   "metadata": {},
   "source": [
    "### Taxa de Fecundidade"
   ]
  },
  {
   "cell_type": "markdown",
   "metadata": {},
   "source": [
    "Número médio de filhos que uma mulher teria até o fim do seu período reprodutivo"
   ]
  },
  {
   "cell_type": "code",
   "execution_count": 2,
   "metadata": {},
   "outputs": [],
   "source": [
    "dt = [[1980, 4.12],\n",
    "      [2000, 2.39],\n",
    "      [2030, 1.51],\n",
    "      [2060, 1.50]]\n",
    "txnt = pd.DataFrame(dt, columns=\"ano taxa\".split())"
   ]
  },
  {
   "cell_type": "code",
   "execution_count": 3,
   "metadata": {},
   "outputs": [
    {
     "data": {
      "text/plain": [
       "Text(0.5, 1.0, 'Projeção da Taxa de natalidade Brasileira até 2060 (IBGE)')"
      ]
     },
     "execution_count": 3,
     "metadata": {},
     "output_type": "execute_result"
    },
    {
     "data": {
      "image/png": "[encoded data removed]",
      "text/plain": [
       "<Figure size 432x288 with 1 Axes>"
      ]
     },
     "metadata": {
      "needs_background": "light"
     },
     "output_type": "display_data"
    }
   ],
   "source": [
    "# Create Figure and add set of axes (empty canvas)\n",
    "fig = plt.figure()\n",
    "axes = fig.add_axes([0.1, 0.1, 0.8, 0.8])\n",
    "\n",
    "# Plot on that set of axes\n",
    "axes.plot(txnt['ano'], txnt['taxa'], 'b.-')\n",
    "axes.set_xlabel('Ano')\n",
    "axes.set_ylabel('Taxa de Fecundidade')\n",
    "axes.set_title('Projeção da Taxa de natalidade Brasileira até 2060 (IBGE)')"
   ]
  },
  {
   "cell_type": "markdown",
   "metadata": {},
   "source": [
    "### Taxa de Natalidade"
   ]
  },
  {
   "cell_type": "markdown",
   "metadata": {},
   "source": [
    "Número de nascidos vivos a cada mil habitantes"
   ]
  },
  {
   "cell_type": "markdown",
   "metadata": {},
   "source": [
    "### Expectativa de Vida"
   ]
  },
  {
   "cell_type": "markdown",
   "metadata": {},
   "source": [
    "Aumento resulta em pagamentos de benefícios para idosos por períodos maiores"
   ]
  },
  {
   "cell_type": "markdown",
   "metadata": {},
   "source": [
    "### Migração"
   ]
  },
  {
   "cell_type": "markdown",
   "metadata": {},
   "source": [
    "Menor impacto:\n",
    "* Trabalhadores jovens migrando para outros países\n",
    "* Entre clienteras Rural e Urbana (regras distintas)"
   ]
  },
  {
   "cell_type": "markdown",
   "metadata": {},
   "source": [
    "### Taxa de Urbanização"
   ]
  },
  {
   "cell_type": "markdown",
   "metadata": {},
   "source": [
    "Variável chave, uma vez que as regras de contribuição entre clientelas é bem distinta\n",
    "* A proporção da população que atua em atividade rual pode ser estimada como $1 - (\\text{taxa de urbanização})$"
   ]
  },
  {
   "cell_type": "markdown",
   "metadata": {
    "toc-hr-collapsed": false
   },
   "source": [
    "## Variáveis Econômicas"
   ]
  },
  {
   "cell_type": "markdown",
   "metadata": {},
   "source": [
    "### Reajuste dos Salários"
   ]
  },
  {
   "cell_type": "markdown",
   "metadata": {},
   "source": [
    "### Inflação"
   ]
  },
  {
   "cell_type": "markdown",
   "metadata": {},
   "source": [
    "### Taxa de Juros"
   ]
  },
  {
   "cell_type": "markdown",
   "metadata": {},
   "source": [
    "### Desemprego"
   ]
  },
  {
   "cell_type": "markdown",
   "metadata": {},
   "source": [
    "### Produtividade"
   ]
  },
  {
   "cell_type": "markdown",
   "metadata": {},
   "source": [
    "### Formalização"
   ]
  },
  {
   "cell_type": "markdown",
   "metadata": {},
   "source": [
    "### Crescimento Econômico"
   ]
  },
  {
   "cell_type": "markdown",
   "metadata": {},
   "source": [
    "## Variáveis Previdenciárias"
   ]
  },
  {
   "cell_type": "markdown",
   "metadata": {},
   "source": [
    "### Alíqutas de Contribuição"
   ]
  },
  {
   "cell_type": "markdown",
   "metadata": {},
   "source": [
    "### Probabilidades de entrada no sistema"
   ]
  },
  {
   "cell_type": "markdown",
   "metadata": {},
   "source": [
    "### Probabilidades de saída do sistema"
   ]
  },
  {
   "cell_type": "markdown",
   "metadata": {},
   "source": [
    "### Reajuste dos benefícios"
   ]
  },
  {
   "cell_type": "markdown",
   "metadata": {},
   "source": [
    "### Valores médios dos benefícios"
   ]
  },
  {
   "cell_type": "markdown",
   "metadata": {
    "toc-hr-collapsed": false
   },
   "source": [
    "# Modelo de Projeção Oficial do Gov Brasileiro"
   ]
  },
  {
   "cell_type": "markdown",
   "metadata": {},
   "source": [
    "Utilizado na elaboração das Metas Fiscais das LDOs de 2002 a 2017, possui dois modelos:\n",
    "* ***Curto prazo***:\n",
    " * Ano corrente e três anos subsequentes\n",
    " * Utilizado para elaboração do propostas orçamentárias anuais, planos plurianuais e acompanhamento de receitas e despesas do ano corrente\n",
    " * Mais simples: menos variáveis, projeção de parâmetros macroeconômicos, não utiliza parâmetros demográficos\n",
    " * Não disponível na literatura (PATRICK, 2017)\n",
    "* ***Longo prazo***:\n",
    " * Parte do quito ano seguinte ao ano corrente, até o último ano para o qual são divulgadas as projeções populacionais do IBGE\n",
    " * Utilizado para simular o impacto de propostas estruturais\n",
    " * Leva em conta variáveis demográficas, econômicas, mercado de trabalho e previdenciárias\n",
    " * Equações disponíveis (Anexo IV Metas Fiscais da LDO de 2017)\n",
    " \n",
    " É importante observar que o modelo não utiliza informações de registros individuais, mas sim informações de [coortes](https://pt.wikipedia.org/wiki/Coorte_(estat%C3%ADstica)) (ou classes anuais) populacionais, sendo tais coortes\n",
    "por **idade**, **sexo** e **clientela**\n",
    "\n",
    "Considerações:\n",
    "* Modelo determinístico\n",
    "* A LDO de 2017, não descreve quais benefícios são usados no modelo\n",
    "* A simplicidade do modelo o torna fácil de implementar, mas abstrair todos os benefícios em poucas equações afeta consideravelmente a  recisão dos resultados"
   ]
  },
  {
   "cell_type": "code",
   "execution_count": 4,
   "metadata": {},
   "outputs": [
    {
     "name": "stdout",
     "output_type": "stream",
     "text": [
      "Parâmetros de indexação e notação geral\n"
     ]
    },
    {
     "data": {
      "text/html": [
       "<div>\n",
       "<style scoped>\n",
       "    .dataframe tbody tr th:only-of-type {\n",
       "        vertical-align: middle;\n",
       "    }\n",
       "\n",
       "    .dataframe tbody tr th {\n",
       "        vertical-align: top;\n",
       "    }\n",
       "\n",
       "    .dataframe thead th {\n",
       "        text-align: right;\n",
       "    }\n",
       "</style>\n",
       "<table border=\"1\" class=\"dataframe\">\n",
       "  <thead>\n",
       "    <tr style=\"text-align: right;\">\n",
       "      <th></th>\n",
       "      <th>Variável</th>\n",
       "      <th>Significado</th>\n",
       "      <th>Valor</th>\n",
       "    </tr>\n",
       "  </thead>\n",
       "  <tbody>\n",
       "    <tr>\n",
       "      <th>i</th>\n",
       "      <td>i</td>\n",
       "      <td>idade</td>\n",
       "      <td>0, 1, ..., 80</td>\n",
       "    </tr>\n",
       "    <tr>\n",
       "      <th>t</th>\n",
       "      <td>t</td>\n",
       "      <td>ano</td>\n",
       "      <td>2012, 2012, ..., 2060</td>\n",
       "    </tr>\n",
       "    <tr>\n",
       "      <th>s</th>\n",
       "      <td>s</td>\n",
       "      <td>sexo</td>\n",
       "      <td>homem ou mulher</td>\n",
       "    </tr>\n",
       "    <tr>\n",
       "      <th>c</th>\n",
       "      <td>c</td>\n",
       "      <td>clientela</td>\n",
       "      <td>urbana ou rual</td>\n",
       "    </tr>\n",
       "    <tr>\n",
       "      <th>k</th>\n",
       "      <td>k</td>\n",
       "      <td>tipo de benefício</td>\n",
       "      <td>aposentadorias, auxílios, pensões, etc</td>\n",
       "    </tr>\n",
       "  </tbody>\n",
       "</table>\n",
       "</div>"
      ],
      "text/plain": [
       "  Variável        Significado                                   Valor\n",
       "i        i              idade                           0, 1, ..., 80\n",
       "t        t                ano                   2012, 2012, ..., 2060\n",
       "s        s               sexo                         homem ou mulher\n",
       "c        c          clientela                          urbana ou rual\n",
       "k        k  tipo de benefício  aposentadorias, auxílios, pensões, etc"
      ]
     },
     "execution_count": 4,
     "metadata": {},
     "output_type": "execute_result"
    }
   ],
   "source": [
    "print(\"Parâmetros de indexação e notação geral\")\n",
    "dt = np.array([['i', 'idade', '0, 1, ..., 80'],\n",
    "               ['t', 'ano', '2012, 2012, ..., 2060'],\n",
    "               ['s', 'sexo', 'homem ou mulher'],\n",
    "               ['c', 'clientela', 'urbana ou rual'],\n",
    "               ['k', 'tipo de benefício', 'aposentadorias, auxílios, pensões, etc']])\n",
    "idx = pd.DataFrame(dt, columns='Variável Significado Valor'.split(), index=dt[:,0])\n",
    "idx"
   ]
  },
  {
   "cell_type": "markdown",
   "metadata": {},
   "source": [
    "## Dados e parâmetros utilizados na simulação"
   ]
  },
  {
   "cell_type": "markdown",
   "metadata": {},
   "source": [
    "| Variável | Valor |\n",
    "| :--- | ---: |\n",
    "|Período projetado | 2016-2035 |\n",
    "|Dados Populacionais | |\n",
    "| Dados de mercado de Trabalho | |\n",
    "| Dados de Estoque | |\n",
    "| Dados de receitas e despesas | |\n",
    "| Densidade de contribuição | |\n",
    "| Alíquota de contribuição do Trabalhador | | \n",
    "| Alíquota de contribuição do empregador | |\n",
    "| Crescimento da produtividade do trabalho | |"
   ]
  },
  {
   "cell_type": "markdown",
   "metadata": {},
   "source": [
    "## Estoque de benefícios"
   ]
  },
  {
   "cell_type": "markdown",
   "metadata": {},
   "source": [
    "* Para calcular as despesas em determinado ano, inicialmente, é necessário calcular o número de beneficiários neste referido ano, aqui referido como estoque.\n",
    "* O estoque é calculado pelo método de fluxos, onde a concessão e cessação de benefícios são estimados, e então o estoque de benefícios em um ano é determinado. \n",
    "* Os **fluxos de concessão** de benefícios são calculados como:\n",
    "\n",
    " $Fe(i,t,s,c,k) = P(i,t,s,c) \\times Pe(i,t,s,c,k)$ , onde:\n",
    " \n",
    " * $Fe$ é o fluxo de entrada nos benefícios tipo $k$, com idade $i$, no ano $t$, do sexo $s$, na clientela $c$\n",
    " * $P$ é a população\n",
    " * $Pe$ é a **probabilidade de entrada** do benefício específico\n",
    " \n",
    " $Pe(i,t,s,c,k) = \\frac{concessoes(i,t,s,c,k)}{P(i,t,s,c)}$\n",
    "\n",
    "* Precisa-se ainda da probabilidade se sobrevivência, definida por:\n",
    " $Ps (i, t, s) = \\frac{P(i+1, t+1, s)}{P(i,t,s)}$\n",
    "\n",
    "Então, o **estoque de benefícios** pode ser calculado como:\n",
    "\n",
    "$Eb(i, t, s, c, k) = Eb(i-1, t-1, s, c, k) \\times Ps(i,s,c,k) \\times Fe(i, t ,s, c, k)$\n",
    "\n",
    "Finamente, o **estoque total de benefícios** em um dato ano $t$:\n",
    "\n",
    "$\\sum_i \\sum_s \\sum_c \\sum_k Eb(i,t,s,c,k)$"
   ]
  },
  {
   "cell_type": "markdown",
   "metadata": {},
   "source": [
    "## Despesa com benefícios"
   ]
  },
  {
   "cell_type": "markdown",
   "metadata": {},
   "source": [
    "Calculada a partir do estoque e do valor médio dos benefícios:\n",
    "\n",
    "$Db(i,t,s,c,k) =$\n",
    "$[Eb(i-1, t-1, s, c, k) \\times Ps(i,s,c,k) \\times Vmb(i,t,s,c,k)] + [Fe(i, t ,s, c, k) \\times Vmbe(i,t,s,c,k)]$\n",
    "\n",
    "Onde:\n",
    "* $Vmb$ é o valor médio atual do benefício (já concedido) pago\n",
    "* $Vmbe$ é o valor médio do benefício (projetado) pago"
   ]
  },
  {
   "cell_type": "markdown",
   "metadata": {},
   "source": [
    "## Receita"
   ]
  },
  {
   "cell_type": "markdown",
   "metadata": {},
   "source": [
    "Número de contribuintes:\n",
    "\n",
    "$\\sum_i \\sum_s \\sum_c C(i,t,s,c) =$\n",
    "$\\sum_i \\sum_s \\sum_c P(i,t,s,c) \\times Part(i,t,s,c) \\times [1-Desemp(i,t,s,c)] \\times d(i,t,s,c)$\n",
    "\n",
    "Onde:\n",
    "* $C$ é o estoque de contibuintes\n",
    "* $P$ é a população\n",
    "* $Part$ é a taxa de participação na força de trabalho\n",
    "* $Desemp$ é a taxa de desemprego\n",
    "* $d$ é a densidade da contribuição (proporção de meses de contribuição do empregado no ano, onde $d=1$ significa 12 meses de contribuição\n",
    " \n",
    "**Valor da receita ($R$) no ano $t$:**\n",
    "\n",
    "$R_t = \\sum_i \\sum_s \\sum_c C(i,t,s,c) \\times [al_{trab} \\times \\text{Min}(Teto, S_a(i,t,s,c)) + al_{emp} \\times S_a(i,t,s,c)]$\n",
    "\n",
    "Onde:\n",
    "* $al_{trab}$ é a alíquota de contribuição paga pelo trabalhador\n",
    "* $al_{emp}$ é a alíquota de contribuição paga pelo empregador\n",
    "* $Teto$ é o limite de contribuição (maior valor sobre o qual a alíquota pode incidir)\n",
    "* $S_a$ é o saláro do empregado"
   ]
  },
  {
   "cell_type": "markdown",
   "metadata": {},
   "source": [
    "# Simulação"
   ]
  },
  {
   "cell_type": "markdown",
   "metadata": {},
   "source": [
    "## Estoque de Benefícios"
   ]
  },
  {
   "cell_type": "markdown",
   "metadata": {},
   "source": [
    "O estoque inicial no ano de 2016 é calculado através da contagem de registros ativos em 2016:"
   ]
  },
  {
   "cell_type": "code",
   "execution_count": 5,
   "metadata": {},
   "outputs": [
    {
     "name": "stdout",
     "output_type": "stream",
     "text": [
      "Eb_2016 = 15293\n"
     ]
    }
   ],
   "source": [
    "# Connect to an existing database\n",
    "try:\n",
    "    conn = psycopg2.connect(\"host='{}' port={} dbname='{}'user={} password={}\"\n",
    "            .format(host, port, dbname, user, pwd))\n",
    "except:\n",
    "        print(\"Unable to connect to the database\")\n",
    "Eb2016 = dp.Eb(i,s,c,k,conn, dbtable)\n",
    "print(\"Eb_2016 = {}\".format(Eb2016))"
   ]
  },
  {
   "cell_type": "markdown",
   "metadata": {},
   "source": [
    "### População - $P(i,s,c,k)$"
   ]
  },
  {
   "cell_type": "markdown",
   "metadata": {},
   "source": [
    "A População brasileira foi obitida em:\n",
    "* 2007: [IBGE, contagem da População 2007](https://ww2.ibge.gov.br/home/estatistica/populacao/contagem2007/contagem.pdf)\n",
    "* 2001 a 2018 (s/ 2007): [IBGE, Estimativas de população](http://dados.gov.br/dataset/xf-estimativas-de-populacao)\n",
    "* 2019 a 2035: Crescimento de 0,4% a.a."
   ]
  },
  {
   "cell_type": "code",
   "execution_count": 6,
   "metadata": {},
   "outputs": [
    {
     "data": {
      "text/plain": [
       "Text(0.5, 1.0, 'Estimativa da População Brasileira')"
      ]
     },
     "execution_count": 6,
     "metadata": {},
     "output_type": "execute_result"
    },
    {
     "data": {
      "image/png": "[encoded data removed]",
      "text/plain": [
       "<Figure size 432x288 with 1 Axes>"
      ]
     },
     "metadata": {
      "needs_background": "light"
     },
     "output_type": "display_data"
    }
   ],
   "source": [
    "pop = dp.P()\n",
    "# Create Figure and add set of axes (empty canvas)\n",
    "fig = plt.figure()\n",
    "axes = fig.add_axes([1, 1, 1, 1])\n",
    "\n",
    "# Plot on that set of axes\n",
    "axes.plot(pop['Ano'], pop['Brasil'], 'b')\n",
    "axes.set_xlabel('Ano')\n",
    "axes.set_ylabel('População')\n",
    "axes.set_title('Estimativa da População Brasileira')"
   ]
  },
  {
   "cell_type": "markdown",
   "metadata": {},
   "source": [
    "### Concessões - $concessoes(i,t,s,c,k)$"
   ]
  },
  {
   "cell_type": "code",
   "execution_count": 7,
   "metadata": {},
   "outputs": [
    {
     "name": "stdout",
     "output_type": "stream",
     "text": [
      "concessoes2016 = 1282\n"
     ]
    }
   ],
   "source": [
    "# Connect to an existing database\n",
    "try:\n",
    "    conn = psycopg2.connect(\"host='{}' port={} dbname='{}'user={} password={}\"\n",
    "            .format(host, port, dbname, user, pwd))\n",
    "except:\n",
    "        print(\"Unable to connect to the database\")\n",
    "concessoes2016 = dp.concessoes(i,[2016],s,c,k,conn, dbtable)\n",
    "print(\"concessoes2016 = {}\".format(concessoes2016))\n",
    "\n",
    "# TODO - Plot concessoes by year\n",
    "#ano_array = np.arange(1995, 2017, 1)\n",
    "#concessoes = np.arange(1995, 2017, 1)\n",
    "#for counter in len(ano_array):\n",
    "#    concessoes[counter] = dp.concessoes(i,np.array(ano_array[counter]),s,c,k,conn, dbtable)"
   ]
  },
  {
   "cell_type": "markdown",
   "metadata": {},
   "source": [
    "### Probabilidade de Entrada = $Pe(i, t, s, c, k)$"
   ]
  },
  {
   "cell_type": "code",
   "execution_count": 8,
   "metadata": {},
   "outputs": [],
   "source": [
    "Pe = 1"
   ]
  },
  {
   "cell_type": "markdown",
   "metadata": {},
   "source": [
    "# Referências"
   ]
  },
  {
   "cell_type": "markdown",
   "metadata": {},
   "source": [
    "* [Dados Abertos Previdência Social](http://www.previdencia.gov.br/dados-abertos/dados-abertos-previdencia-social/)\n",
    " * [Anuário estatístico da Previdência Social em 2015](http://www.previdencia.gov.br/wp-content/uploads/2015/08/AEPS-2015-FINAL.pdf)\n",
    " * [Anuário estatístico da Previdência Social em 2016](http://sa.previdencia.gov.br/site/2018/08/aeps2016.pdf)\n",
    "   * [Principais resultados](http://sa.previdencia.gov.br/site/2018/02/Apresenta%C3%A7%C3%A3o-Alexandre-Ziole-AEPS-2016-003.pdf)\n",
    "* [CPIPREV](https://legis.senado.leg.br/comissoes/docsRecCPI?codcol=2093 \"DOC090 / Midia 018 and DOC097 e Midia 019\") \n",
    "* [Wiki do projeto](https://prev.andrepereira.eng.br) "
   ]
  },
  {
   "cell_type": "code",
   "execution_count": null,
   "metadata": {},
   "outputs": [],
   "source": []
  }
 ],
 "metadata": {
  "kernelspec": {
   "display_name": "Python 3",
   "language": "python",
   "name": "python3"
  },
  "language_info": {
   "codemirror_mode": {
    "name": "ipython",
    "version": 3
   },
   "file_extension": ".py",
   "mimetype": "text/x-python",
   "name": "python",
   "nbconvert_exporter": "python",
   "pygments_lexer": "ipython3",
   "version": "3.6.6"
  },
  "toc-autonumbering": true,
  "toc-showcode": false,
  "toc-showmarkdowntxt": false,
  "toc-showtags": false
 },
 "nbformat": 4,
 "nbformat_minor": 2
}
