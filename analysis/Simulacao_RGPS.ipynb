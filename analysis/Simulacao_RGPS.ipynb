{
 "cells": [
  {
   "cell_type": "code",
   "execution_count": 1,
   "metadata": {},
   "outputs": [],
   "source": [
    "import numpy as np\n",
    "import pandas as pd\n",
    "import psycopg2\n",
    "import pandas.io.sql as sqlio\n",
    "import matplotlib.pyplot as plt\n",
    "import seaborn as sns\n",
    "import model.dsprev as dp\n",
    "import time\n",
    "\n",
    "# Parâmetros da simulação\n",
    "i = np.arange(0,16,1)         # [0,15]\n",
    "t = np.arange(2016,2036,1)    # [2016, 2035]\n",
    "s = np.array([1, 3])\n",
    "c = np.array([1, 2])\n",
    "k = [41, 42]\n",
    "#k = [32, # Aposentadoria por invalidez previdenciária \n",
    "#     41, # Aposentadoria por idade \n",
    "#     42, # Aposentadoria por tempo de serviço previdenciária\n",
    "#     46, # Aposentadoria por tempo de serviço especial \n",
    "#     57]  #Aposentadoria por tempo de serviço de professor\n",
    "\n",
    "dbtable = 'FATO_AUXILIO_SAMPLE'\n",
    "#dbtable = 'FATO_AUXILIO'\n",
    "\n",
    "# Conection parameters\n",
    "host='tama'\n",
    "port='5432'\n",
    "dbname='prevdb'\n",
    "user='prevdb_user'\n",
    "pwd='pr3v'\n",
    "\n",
    "# Track execution time                                                          \n",
    "start_time = time.time()"
   ]
  },
  {
   "cell_type": "markdown",
   "metadata": {},
   "source": [
    "# Simulação RGPS"
   ]
  },
  {
   "cell_type": "markdown",
   "metadata": {
    "toc-hr-collapsed": true
   },
   "source": [
    "# Variáveis em modelos de Projeção"
   ]
  },
  {
   "cell_type": "markdown",
   "metadata": {
    "toc-hr-collapsed": true
   },
   "source": [
    "## Variáveis demográficas"
   ]
  },
  {
   "cell_type": "markdown",
   "metadata": {},
   "source": [
    "**Pilares** (COSTANZI; ANSILEIRO, 2017):\n",
    "* **Queda da mortalidade** (inicialmente a infantil)\n",
    " * Melhorias em saúde pública, nível educacional, saneamento básico, ...\n",
    "* **Diminuição na taxa de fecundidade**\n",
    " * Retardo no inívio da vida produtiva, contrele da fecundidade, ...\n",
    "* **Efeitos do padrão moderno de crescimento econômico**\n",
    " * Impacto na mobilidade dos indivíduos e na dinâmica do crescimento populacional"
   ]
  },
  {
   "cell_type": "markdown",
   "metadata": {},
   "source": [
    "### Taxa de Fecundidade"
   ]
  },
  {
   "cell_type": "markdown",
   "metadata": {},
   "source": [
    "Número médio de filhos que uma mulher teria até o fim do seu período reprodutivo"
   ]
  },
  {
   "cell_type": "code",
   "execution_count": 2,
   "metadata": {},
   "outputs": [],
   "source": [
    "dt = [[1980, 4.12],\n",
    "      [2000, 2.39],\n",
    "      [2030, 1.51],\n",
    "      [2060, 1.50]]\n",
    "txnt = pd.DataFrame(dt, columns=\"ano taxa\".split())"
   ]
  },
  {
   "cell_type": "code",
   "execution_count": 3,
   "metadata": {},
   "outputs": [
    {
     "data": {
      "text/plain": [
       "Text(0.5, 1.0, 'Projeção da Taxa de natalidade Brasileira até 2060 (IBGE)')"
      ]
     },
     "execution_count": 3,
     "metadata": {},
     "output_type": "execute_result"
    },
    {
     "data": {
      "image/png": "[encoded data removed]",
      "text/plain": [
       "<Figure size 432x288 with 1 Axes>"
      ]
     },
     "metadata": {
      "needs_background": "light"
     },
     "output_type": "display_data"
    }
   ],
   "source": [
    "# Create Figure and add set of axes (empty canvas)\n",
    "fig = plt.figure()\n",
    "axes = fig.add_axes([0.1, 0.1, 0.8, 0.8])\n",
    "\n",
    "# Plot on that set of axes\n",
    "axes.plot(txnt['ano'], txnt['taxa'], 'b.-')\n",
    "axes.set_xlabel('Ano')\n",
    "axes.set_ylabel('Taxa de Fecundidade')\n",
    "axes.set_title('Projeção da Taxa de natalidade Brasileira até 2060 (IBGE)')"
   ]
  },
  {
   "cell_type": "markdown",
   "metadata": {},
   "source": [
    "### Taxa de Natalidade"
   ]
  },
  {
   "cell_type": "markdown",
   "metadata": {},
   "source": [
    "Número de nascidos vivos a cada mil habitantes"
   ]
  },
  {
   "cell_type": "markdown",
   "metadata": {},
   "source": [
    "### Expectativa de Vida"
   ]
  },
  {
   "cell_type": "markdown",
   "metadata": {},
   "source": [
    "Aumento resulta em pagamentos de benefícios para idosos por períodos maiores"
   ]
  },
  {
   "cell_type": "markdown",
   "metadata": {},
   "source": [
    "### Migração"
   ]
  },
  {
   "cell_type": "markdown",
   "metadata": {},
   "source": [
    "Menor impacto:\n",
    "* Trabalhadores jovens migrando para outros países\n",
    "* Entre clienteras Rural e Urbana (regras distintas)"
   ]
  },
  {
   "cell_type": "markdown",
   "metadata": {},
   "source": [
    "### Taxa de Urbanização"
   ]
  },
  {
   "cell_type": "markdown",
   "metadata": {},
   "source": [
    "Variável chave, uma vez que as regras de contribuição entre clientelas é bem distinta\n",
    "* A proporção da população que atua em atividade rual pode ser estimada como $1 - (\\text{taxa de urbanização})$"
   ]
  },
  {
   "cell_type": "markdown",
   "metadata": {
    "toc-hr-collapsed": true
   },
   "source": [
    "## Variáveis Econômicas"
   ]
  },
  {
   "cell_type": "markdown",
   "metadata": {},
   "source": [
    "### Reajuste dos Salários"
   ]
  },
  {
   "cell_type": "markdown",
   "metadata": {},
   "source": [
    "### Inflação"
   ]
  },
  {
   "cell_type": "markdown",
   "metadata": {},
   "source": [
    "### Taxa de Juros"
   ]
  },
  {
   "cell_type": "markdown",
   "metadata": {},
   "source": [
    "### Desemprego"
   ]
  },
  {
   "cell_type": "markdown",
   "metadata": {},
   "source": [
    "### Produtividade"
   ]
  },
  {
   "cell_type": "markdown",
   "metadata": {},
   "source": [
    "### Formalização"
   ]
  },
  {
   "cell_type": "markdown",
   "metadata": {},
   "source": [
    "### Crescimento Econômico"
   ]
  },
  {
   "cell_type": "markdown",
   "metadata": {
    "toc-hr-collapsed": true
   },
   "source": [
    "## Variáveis Previdenciárias"
   ]
  },
  {
   "cell_type": "markdown",
   "metadata": {},
   "source": [
    "### Alíqutas de Contribuição"
   ]
  },
  {
   "cell_type": "markdown",
   "metadata": {},
   "source": [
    "### Probabilidades de entrada no sistema"
   ]
  },
  {
   "cell_type": "markdown",
   "metadata": {},
   "source": [
    "### Probabilidades de saída do sistema"
   ]
  },
  {
   "cell_type": "markdown",
   "metadata": {},
   "source": [
    "### Reajuste dos benefícios"
   ]
  },
  {
   "cell_type": "markdown",
   "metadata": {},
   "source": [
    "### Valores médios dos benefícios"
   ]
  },
  {
   "cell_type": "markdown",
   "metadata": {
    "toc-hr-collapsed": false
   },
   "source": [
    "# Modelo de Projeção Oficial do Gov Brasileiro"
   ]
  },
  {
   "cell_type": "markdown",
   "metadata": {},
   "source": [
    "Utilizado na elaboração das Metas Fiscais das LDOs de 2002 a 2017, possui dois modelos:\n",
    "* ***Curto prazo***:\n",
    " * Ano corrente e três anos subsequentes\n",
    " * Utilizado para elaboração do propostas orçamentárias anuais, planos plurianuais e acompanhamento de receitas e despesas do ano corrente\n",
    " * Mais simples: menos variáveis, projeção de parâmetros macroeconômicos, não utiliza parâmetros demográficos\n",
    " * Não disponível na literatura (PATRICK, 2017)\n",
    "* ***Longo prazo***:\n",
    " * Parte do quito ano seguinte ao ano corrente, até o último ano para o qual são divulgadas as projeções populacionais do IBGE\n",
    " * Utilizado para simular o impacto de propostas estruturais\n",
    " * Leva em conta variáveis demográficas, econômicas, mercado de trabalho e previdenciárias\n",
    " * Equações disponíveis (Anexo IV Metas Fiscais da LDO de 2017)\n",
    " \n",
    " É importante observar que o modelo não utiliza informações de registros individuais, mas sim informações de [coortes](https://pt.wikipedia.org/wiki/Coorte_(estat%C3%ADstica)) (ou classes anuais) populacionais, sendo tais coortes\n",
    "por **idade**, **sexo** e **clientela**\n",
    "\n",
    "Considerações:\n",
    "* Modelo determinístico\n",
    "* A LDO de 2017, não descreve quais benefícios são usados no modelo\n",
    "* A simplicidade do modelo o torna fácil de implementar, mas abstrair todos os benefícios em poucas equações afeta consideravelmente a  recisão dos resultados"
   ]
  },
  {
   "cell_type": "code",
   "execution_count": 4,
   "metadata": {},
   "outputs": [
    {
     "name": "stdout",
     "output_type": "stream",
     "text": [
      "Parâmetros de indexação e notação geral\n"
     ]
    },
    {
     "data": {
      "text/html": [
       "<div>\n",
       "<style scoped>\n",
       "    .dataframe tbody tr th:only-of-type {\n",
       "        vertical-align: middle;\n",
       "    }\n",
       "\n",
       "    .dataframe tbody tr th {\n",
       "        vertical-align: top;\n",
       "    }\n",
       "\n",
       "    .dataframe thead th {\n",
       "        text-align: right;\n",
       "    }\n",
       "</style>\n",
       "<table border=\"1\" class=\"dataframe\">\n",
       "  <thead>\n",
       "    <tr style=\"text-align: right;\">\n",
       "      <th></th>\n",
       "      <th>Variável</th>\n",
       "      <th>Significado</th>\n",
       "      <th>Valor</th>\n",
       "    </tr>\n",
       "  </thead>\n",
       "  <tbody>\n",
       "    <tr>\n",
       "      <th>i</th>\n",
       "      <td>i</td>\n",
       "      <td>idade</td>\n",
       "      <td>0, 1, ..., 80</td>\n",
       "    </tr>\n",
       "    <tr>\n",
       "      <th>t</th>\n",
       "      <td>t</td>\n",
       "      <td>ano</td>\n",
       "      <td>2012, 2012, ..., 2060</td>\n",
       "    </tr>\n",
       "    <tr>\n",
       "      <th>s</th>\n",
       "      <td>s</td>\n",
       "      <td>sexo</td>\n",
       "      <td>homem ou mulher</td>\n",
       "    </tr>\n",
       "    <tr>\n",
       "      <th>c</th>\n",
       "      <td>c</td>\n",
       "      <td>clientela</td>\n",
       "      <td>urbana ou rual</td>\n",
       "    </tr>\n",
       "    <tr>\n",
       "      <th>k</th>\n",
       "      <td>k</td>\n",
       "      <td>tipo de benefício</td>\n",
       "      <td>aposentadorias, auxílios, pensões, etc</td>\n",
       "    </tr>\n",
       "  </tbody>\n",
       "</table>\n",
       "</div>"
      ],
      "text/plain": [
       "  Variável        Significado                                   Valor\n",
       "i        i              idade                           0, 1, ..., 80\n",
       "t        t                ano                   2012, 2012, ..., 2060\n",
       "s        s               sexo                         homem ou mulher\n",
       "c        c          clientela                          urbana ou rual\n",
       "k        k  tipo de benefício  aposentadorias, auxílios, pensões, etc"
      ]
     },
     "execution_count": 4,
     "metadata": {},
     "output_type": "execute_result"
    }
   ],
   "source": [
    "print(\"Parâmetros de indexação e notação geral\")\n",
    "dt = np.array([['i', 'idade', '0, 1, ..., 80'],\n",
    "               ['t', 'ano', '2012, 2012, ..., 2060'],\n",
    "               ['s', 'sexo', 'homem ou mulher'],\n",
    "               ['c', 'clientela', 'urbana ou rual'],\n",
    "               ['k', 'tipo de benefício', 'aposentadorias, auxílios, pensões, etc']])\n",
    "idx = pd.DataFrame(dt, columns='Variável Significado Valor'.split(), index=dt[:,0])\n",
    "idx"
   ]
  },
  {
   "cell_type": "markdown",
   "metadata": {},
   "source": [
    "## Dados e parâmetros utilizados na simulação"
   ]
  },
  {
   "cell_type": "markdown",
   "metadata": {},
   "source": [
    "| Variável | Valor |\n",
    "| :--- | ---: |\n",
    "|Período projetado | 2016-2035 |\n",
    "|Dados Populacionais | |\n",
    "| Dados de mercado de Trabalho | |\n",
    "| Dados de Estoque | |\n",
    "| Dados de receitas e despesas | |\n",
    "| Densidade de contribuição | |\n",
    "| Alíquota de contribuição do Trabalhador | | \n",
    "| Alíquota de contribuição do empregador | |\n",
    "| Crescimento da produtividade do trabalho | |"
   ]
  },
  {
   "cell_type": "markdown",
   "metadata": {},
   "source": [
    "## Estoque de benefícios"
   ]
  },
  {
   "cell_type": "markdown",
   "metadata": {},
   "source": [
    "* Para calcular as despesas em determinado ano, inicialmente, é necessário calcular o número de beneficiários neste referido ano, aqui referido como estoque.\n",
    "* O estoque é calculado pelo método de fluxos, onde a concessão e cessação de benefícios são estimados, e então o estoque de benefícios em um ano é determinado. \n",
    "* Os **fluxos de concessão** de benefícios são calculados como:\n",
    "\n",
    " $Fe(i,t,s,c,k) = P(i,t,s,c) \\times Pe(i,t,s,c,k)$ , onde:\n",
    " \n",
    " * $Fe$ é o fluxo de entrada nos benefícios tipo $k$, com idade $i$, no ano $t$, do sexo $s$, na clientela $c$\n",
    " * $P$ é a população\n",
    " * $Pe$ é a **probabilidade de entrada** do benefício específico\n",
    " \n",
    " $Pe(i,t,s,c,k) = \\frac{concessoes(i,t,s,c,k)}{P(i,t,s,c)}$\n",
    "\n",
    "* Precisa-se ainda da probabilidade se sobrevivência, definida por:\n",
    " $Ps (i, t, s) = \\frac{P(i+1, t+1, s)}{P(i,t,s)}$\n",
    "\n",
    "Então, o **estoque de benefícios** pode ser calculado como:\n",
    "\n",
    "$Eb(i, t, s, c, k) = Eb(i-1, t-1, s, c, k) \\times Ps(i,s,c,k) \\times Fe(i, t ,s, c, k)$\n",
    "\n",
    "Finamente, o **estoque total de benefícios** em um dato ano $t$:\n",
    "\n",
    "$\\sum_i \\sum_s \\sum_c \\sum_k Eb(i,t,s,c,k)$"
   ]
  },
  {
   "cell_type": "markdown",
   "metadata": {},
   "source": [
    "## Despesa com benefícios"
   ]
  },
  {
   "cell_type": "markdown",
   "metadata": {},
   "source": [
    "Calculada a partir do estoque e do valor médio dos benefícios:\n",
    "\n",
    "$Db(i,t,s,c,k) =$\n",
    "$[Eb(i-1, t-1, s, c, k) \\times Ps(i,s,c,k) \\times Vmb(i,t,s,c,k)] + [Fe(i, t ,s, c, k) \\times Vmbe(i,t,s,c,k)]$\n",
    "\n",
    "Onde:\n",
    "* $Vmb$ é o valor médio atual do benefício (já concedido) pago\n",
    "* $Vmbe$ é o valor médio do benefício (projetado) pago"
   ]
  },
  {
   "cell_type": "markdown",
   "metadata": {},
   "source": [
    "## Receita"
   ]
  },
  {
   "cell_type": "markdown",
   "metadata": {},
   "source": [
    "Número de contribuintes:\n",
    "\n",
    "$\\sum_i \\sum_s \\sum_c C(i,t,s,c) =$\n",
    "$\\sum_i \\sum_s \\sum_c P(i,t,s,c) \\times Part(i,t,s,c) \\times [1-Desemp(i,t,s,c)] \\times d(i,t,s,c)$\n",
    "\n",
    "Onde:\n",
    "* $C$ é o estoque de contibuintes\n",
    "* $P$ é a população\n",
    "* $Part$ é a taxa de participação na força de trabalho\n",
    "* $Desemp$ é a taxa de desemprego\n",
    "* $d$ é a densidade da contribuição (proporção de meses de contribuição do empregado no ano, onde $d=1$ significa 12 meses de contribuição\n",
    " \n",
    "**Valor da receita ($R$) no ano $t$:**\n",
    "\n",
    "$R_t = \\sum_i \\sum_s \\sum_c C(i,t,s,c) \\times [al_{trab} \\times \\text{Min}(Teto, S_a(i,t,s,c)) + al_{emp} \\times S_a(i,t,s,c)]$\n",
    "\n",
    "Onde:\n",
    "* $al_{trab}$ é a alíquota de contribuição paga pelo trabalhador\n",
    "* $al_{emp}$ é a alíquota de contribuição paga pelo empregador\n",
    "* $Teto$ é o limite de contribuição (maior valor sobre o qual a alíquota pode incidir)\n",
    "* $S_a$ é o saláro do empregado"
   ]
  },
  {
   "cell_type": "markdown",
   "metadata": {},
   "source": [
    "# Simulação"
   ]
  },
  {
   "cell_type": "code",
   "execution_count": 5,
   "metadata": {},
   "outputs": [],
   "source": [
    "# Create simulation dataframe\n",
    "nvars = 4\n",
    "ngroups = len(i) * len(s) * len(c) * len(k)\n",
    "dt = np.empty([ngroups, nvars],dtype=int)\n",
    "row = 0\n",
    "for idade in i:\n",
    "    for sexo in s:\n",
    "        for clientela in c:\n",
    "            for beneficio in k:\n",
    "                dt[row, 0] = idade\n",
    "                dt[row, 1] = sexo\n",
    "                dt[row, 2] = clientela\n",
    "                dt[row, 3] = beneficio\n",
    "                row += 1\n",
    "df = pd.DataFrame(dt, columns='idade sexo clientela beneficio'.split())\n",
    "df['desc'] = df['idade'].apply(lambda x: dp.get_age_description(x))\n",
    "df = df[['desc', 'idade', 'sexo', 'clientela', 'beneficio']] # reorder columns"
   ]
  },
  {
   "cell_type": "markdown",
   "metadata": {},
   "source": [
    "## Estoque de Benefícios"
   ]
  },
  {
   "cell_type": "markdown",
   "metadata": {},
   "source": [
    "O estoque inicial no ano de 2016 é calculado através da contagem de registros ativos em 2016:"
   ]
  },
  {
   "cell_type": "code",
   "execution_count": 23,
   "metadata": {},
   "outputs": [
    {
     "name": "stdout",
     "output_type": "stream",
     "text": [
      "Eb_2016 = 12656\n",
      "\n",
      "Execution time: 0.0180 minutes.\n"
     ]
    },
    {
     "data": {
      "text/html": [
       "<div>\n",
       "<style scoped>\n",
       "    .dataframe tbody tr th:only-of-type {\n",
       "        vertical-align: middle;\n",
       "    }\n",
       "\n",
       "    .dataframe tbody tr th {\n",
       "        vertical-align: top;\n",
       "    }\n",
       "\n",
       "    .dataframe thead tr th {\n",
       "        text-align: left;\n",
       "    }\n",
       "\n",
       "    .dataframe thead tr:last-of-type th {\n",
       "        text-align: right;\n",
       "    }\n",
       "</style>\n",
       "<table border=\"1\" class=\"dataframe\">\n",
       "  <thead>\n",
       "    <tr>\n",
       "      <th>beneficio</th>\n",
       "      <th colspan=\"4\" halign=\"left\">41</th>\n",
       "      <th colspan=\"4\" halign=\"left\">42</th>\n",
       "      <th>desc</th>\n",
       "    </tr>\n",
       "    <tr>\n",
       "      <th>clientela</th>\n",
       "      <th colspan=\"2\" halign=\"left\">1</th>\n",
       "      <th colspan=\"2\" halign=\"left\">2</th>\n",
       "      <th colspan=\"2\" halign=\"left\">1</th>\n",
       "      <th colspan=\"2\" halign=\"left\">2</th>\n",
       "      <th></th>\n",
       "    </tr>\n",
       "    <tr>\n",
       "      <th>sexo</th>\n",
       "      <th>1</th>\n",
       "      <th>3</th>\n",
       "      <th>1</th>\n",
       "      <th>3</th>\n",
       "      <th>1</th>\n",
       "      <th>3</th>\n",
       "      <th>1</th>\n",
       "      <th>3</th>\n",
       "      <th></th>\n",
       "    </tr>\n",
       "    <tr>\n",
       "      <th>idade</th>\n",
       "      <th></th>\n",
       "      <th></th>\n",
       "      <th></th>\n",
       "      <th></th>\n",
       "      <th></th>\n",
       "      <th></th>\n",
       "      <th></th>\n",
       "      <th></th>\n",
       "      <th></th>\n",
       "    </tr>\n",
       "  </thead>\n",
       "  <tbody>\n",
       "    <tr>\n",
       "      <th>0</th>\n",
       "      <td>0</td>\n",
       "      <td>0</td>\n",
       "      <td>0</td>\n",
       "      <td>0</td>\n",
       "      <td>0</td>\n",
       "      <td>0</td>\n",
       "      <td>0</td>\n",
       "      <td>0</td>\n",
       "      <td>Menos de 1 ano</td>\n",
       "    </tr>\n",
       "    <tr>\n",
       "      <th>1</th>\n",
       "      <td>0</td>\n",
       "      <td>0</td>\n",
       "      <td>0</td>\n",
       "      <td>0</td>\n",
       "      <td>0</td>\n",
       "      <td>0</td>\n",
       "      <td>0</td>\n",
       "      <td>0</td>\n",
       "      <td>1 a 4 anos</td>\n",
       "    </tr>\n",
       "    <tr>\n",
       "      <th>2</th>\n",
       "      <td>0</td>\n",
       "      <td>0</td>\n",
       "      <td>0</td>\n",
       "      <td>0</td>\n",
       "      <td>0</td>\n",
       "      <td>0</td>\n",
       "      <td>0</td>\n",
       "      <td>0</td>\n",
       "      <td>5 a 9 anos</td>\n",
       "    </tr>\n",
       "    <tr>\n",
       "      <th>3</th>\n",
       "      <td>0</td>\n",
       "      <td>0</td>\n",
       "      <td>0</td>\n",
       "      <td>0</td>\n",
       "      <td>0</td>\n",
       "      <td>0</td>\n",
       "      <td>0</td>\n",
       "      <td>0</td>\n",
       "      <td>10 a 14 anos</td>\n",
       "    </tr>\n",
       "    <tr>\n",
       "      <th>4</th>\n",
       "      <td>0</td>\n",
       "      <td>0</td>\n",
       "      <td>0</td>\n",
       "      <td>0</td>\n",
       "      <td>0</td>\n",
       "      <td>0</td>\n",
       "      <td>0</td>\n",
       "      <td>0</td>\n",
       "      <td>15 a 19 anos</td>\n",
       "    </tr>\n",
       "    <tr>\n",
       "      <th>5</th>\n",
       "      <td>0</td>\n",
       "      <td>0</td>\n",
       "      <td>0</td>\n",
       "      <td>0</td>\n",
       "      <td>0</td>\n",
       "      <td>0</td>\n",
       "      <td>0</td>\n",
       "      <td>0</td>\n",
       "      <td>20 a 24 anos</td>\n",
       "    </tr>\n",
       "    <tr>\n",
       "      <th>6</th>\n",
       "      <td>0</td>\n",
       "      <td>0</td>\n",
       "      <td>0</td>\n",
       "      <td>0</td>\n",
       "      <td>0</td>\n",
       "      <td>0</td>\n",
       "      <td>0</td>\n",
       "      <td>0</td>\n",
       "      <td>25 a 29 anos</td>\n",
       "    </tr>\n",
       "    <tr>\n",
       "      <th>7</th>\n",
       "      <td>0</td>\n",
       "      <td>0</td>\n",
       "      <td>0</td>\n",
       "      <td>0</td>\n",
       "      <td>0</td>\n",
       "      <td>1</td>\n",
       "      <td>0</td>\n",
       "      <td>0</td>\n",
       "      <td>30 a 34 anos</td>\n",
       "    </tr>\n",
       "    <tr>\n",
       "      <th>8</th>\n",
       "      <td>0</td>\n",
       "      <td>0</td>\n",
       "      <td>0</td>\n",
       "      <td>0</td>\n",
       "      <td>38</td>\n",
       "      <td>9</td>\n",
       "      <td>0</td>\n",
       "      <td>0</td>\n",
       "      <td>35 a 39 anos</td>\n",
       "    </tr>\n",
       "    <tr>\n",
       "      <th>9</th>\n",
       "      <td>0</td>\n",
       "      <td>0</td>\n",
       "      <td>0</td>\n",
       "      <td>0</td>\n",
       "      <td>250</td>\n",
       "      <td>100</td>\n",
       "      <td>1</td>\n",
       "      <td>0</td>\n",
       "      <td>40 a 44 anos</td>\n",
       "    </tr>\n",
       "    <tr>\n",
       "      <th>10</th>\n",
       "      <td>0</td>\n",
       "      <td>0</td>\n",
       "      <td>0</td>\n",
       "      <td>0</td>\n",
       "      <td>530</td>\n",
       "      <td>374</td>\n",
       "      <td>0</td>\n",
       "      <td>0</td>\n",
       "      <td>45 a 49 anos</td>\n",
       "    </tr>\n",
       "    <tr>\n",
       "      <th>11</th>\n",
       "      <td>0</td>\n",
       "      <td>0</td>\n",
       "      <td>0</td>\n",
       "      <td>0</td>\n",
       "      <td>994</td>\n",
       "      <td>491</td>\n",
       "      <td>6</td>\n",
       "      <td>0</td>\n",
       "      <td>50 a 54 anos</td>\n",
       "    </tr>\n",
       "    <tr>\n",
       "      <th>12</th>\n",
       "      <td>0</td>\n",
       "      <td>0</td>\n",
       "      <td>0</td>\n",
       "      <td>2568</td>\n",
       "      <td>827</td>\n",
       "      <td>299</td>\n",
       "      <td>2</td>\n",
       "      <td>0</td>\n",
       "      <td>55 a 59 anos</td>\n",
       "    </tr>\n",
       "    <tr>\n",
       "      <th>13</th>\n",
       "      <td>0</td>\n",
       "      <td>1846</td>\n",
       "      <td>1834</td>\n",
       "      <td>332</td>\n",
       "      <td>377</td>\n",
       "      <td>28</td>\n",
       "      <td>3</td>\n",
       "      <td>0</td>\n",
       "      <td>60 a 64 anos</td>\n",
       "    </tr>\n",
       "    <tr>\n",
       "      <th>14</th>\n",
       "      <td>1128</td>\n",
       "      <td>194</td>\n",
       "      <td>102</td>\n",
       "      <td>99</td>\n",
       "      <td>21</td>\n",
       "      <td>1</td>\n",
       "      <td>0</td>\n",
       "      <td>0</td>\n",
       "      <td>65 a 69 anos</td>\n",
       "    </tr>\n",
       "    <tr>\n",
       "      <th>15</th>\n",
       "      <td>51</td>\n",
       "      <td>69</td>\n",
       "      <td>23</td>\n",
       "      <td>50</td>\n",
       "      <td>8</td>\n",
       "      <td>0</td>\n",
       "      <td>0</td>\n",
       "      <td>0</td>\n",
       "      <td>70 anos ou mais</td>\n",
       "    </tr>\n",
       "  </tbody>\n",
       "</table>\n",
       "</div>"
      ],
      "text/plain": [
       "beneficio    41                     42                        desc\n",
       "clientela     1           2          1       2                    \n",
       "sexo          1     3     1     3    1    3  1  3                 \n",
       "idade                                                             \n",
       "0             0     0     0     0    0    0  0  0   Menos de 1 ano\n",
       "1             0     0     0     0    0    0  0  0       1 a 4 anos\n",
       "2             0     0     0     0    0    0  0  0       5 a 9 anos\n",
       "3             0     0     0     0    0    0  0  0     10 a 14 anos\n",
       "4             0     0     0     0    0    0  0  0     15 a 19 anos\n",
       "5             0     0     0     0    0    0  0  0     20 a 24 anos\n",
       "6             0     0     0     0    0    0  0  0     25 a 29 anos\n",
       "7             0     0     0     0    0    1  0  0     30 a 34 anos\n",
       "8             0     0     0     0   38    9  0  0     35 a 39 anos\n",
       "9             0     0     0     0  250  100  1  0     40 a 44 anos\n",
       "10            0     0     0     0  530  374  0  0     45 a 49 anos\n",
       "11            0     0     0     0  994  491  6  0     50 a 54 anos\n",
       "12            0     0     0  2568  827  299  2  0     55 a 59 anos\n",
       "13            0  1846  1834   332  377   28  3  0     60 a 64 anos\n",
       "14         1128   194   102    99   21    1  0  0     65 a 69 anos\n",
       "15           51    69    23    50    8    0  0  0  70 anos ou mais"
      ]
     },
     "execution_count": 23,
     "metadata": {},
     "output_type": "execute_result"
    }
   ],
   "source": [
    "# Connect to an existing database\n",
    "try:\n",
    "    conn = psycopg2.connect(\"host='{}' port={} dbname='{}'user={} password={}\"\n",
    "            .format(host, port, dbname, user, pwd))\n",
    "except:\n",
    "        print(\"Unable to connect to the database\")\n",
    "        \n",
    "func_time = time.time()\n",
    "\n",
    "Eb2016 = dp.Eb(conn, dbtable, i, s, c, k)\n",
    "print(\"Eb_2016 = {}\".format(Eb2016))\n",
    "\n",
    "df['Eb'] = df.apply(lambda row: dp.Eb(conn, dbtable,\n",
    "                                      i=[row['idade']], \n",
    "                                      s=[row['sexo']],\n",
    "                                      c=[row['clientela']],\n",
    "                                      k=[row['beneficio']]), axis=1)\n",
    "# Close communication with the database                                     \n",
    "conn.close() \n",
    "\n",
    "elapsed_time = (time.time() - func_time) / 60\n",
    "print(\"\\nExecution time: {0:0.4f} minutes.\".format(elapsed_time))\n",
    "\n",
    "# Pivot table\n",
    "pvdf = df.pivot_table(values='Eb',index='idade',columns=['beneficio', 'clientela', 'sexo'])\n",
    "pvdf['desc'] = pvdf.index\n",
    "pvdf['desc'] = pvdf['desc'].apply(lambda x: dp.get_age_description(x))\n",
    "pvdf"
   ]
  },
  {
   "cell_type": "markdown",
   "metadata": {},
   "source": [
    "### População - $P(i,s,c,k)$"
   ]
  },
  {
   "cell_type": "markdown",
   "metadata": {},
   "source": [
    "A População brasileira foi obitida em:\n",
    "* 2013, 2014 e 2015: AEPS 2016"
   ]
  },
  {
   "cell_type": "code",
   "execution_count": 7,
   "metadata": {},
   "outputs": [
    {
     "data": {
      "text/plain": [
       "ano\n",
       "2013    198.935652\n",
       "2014    200.565171\n",
       "2015    202.346089\n",
       "Name: populacao_m, dtype: float64"
      ]
     },
     "execution_count": 7,
     "metadata": {},
     "output_type": "execute_result"
    }
   ],
   "source": [
    "pop = dp.P()\n",
    "pop['populacao_m'] = pop['populacao'].apply(lambda x: x / 1000000)\n",
    "pop.groupby('ano').sum()['populacao_m']"
   ]
  },
  {
   "cell_type": "markdown",
   "metadata": {},
   "source": [
    "### Concessões - $concessoes(i,t,s,c,k)$"
   ]
  },
  {
   "cell_type": "code",
   "execution_count": 8,
   "metadata": {},
   "outputs": [
    {
     "ename": "IndexError",
     "evalue": "single positional indexer is out-of-bounds",
     "output_type": "error",
     "traceback": [
      "\u001b[0;31m---------------------------------------------------------------------------\u001b[0m",
      "\u001b[0;31mIndexError\u001b[0m                                Traceback (most recent call last)",
      "\u001b[0;32m<ipython-input-8-4de43a32a011>\u001b[0m in \u001b[0;36m<module>\u001b[0;34m\u001b[0m\n\u001b[1;32m      6\u001b[0m         \u001b[0mprint\u001b[0m\u001b[0;34m(\u001b[0m\u001b[0;34m\"Unable to connect to the database\"\u001b[0m\u001b[0;34m)\u001b[0m\u001b[0;34m\u001b[0m\u001b[0m\n\u001b[1;32m      7\u001b[0m \u001b[0mconcessoes\u001b[0m \u001b[0;34m=\u001b[0m \u001b[0mdp\u001b[0m\u001b[0;34m.\u001b[0m\u001b[0mconcessoes\u001b[0m\u001b[0;34m(\u001b[0m\u001b[0mi\u001b[0m\u001b[0;34m,\u001b[0m\u001b[0mnp\u001b[0m\u001b[0;34m.\u001b[0m\u001b[0marange\u001b[0m\u001b[0;34m(\u001b[0m\u001b[0;36m1995\u001b[0m\u001b[0;34m,\u001b[0m \u001b[0;36m2017\u001b[0m\u001b[0;34m)\u001b[0m\u001b[0;34m,\u001b[0m\u001b[0ms\u001b[0m\u001b[0;34m,\u001b[0m\u001b[0mc\u001b[0m\u001b[0;34m,\u001b[0m\u001b[0mk\u001b[0m\u001b[0;34m,\u001b[0m\u001b[0mconn\u001b[0m\u001b[0;34m,\u001b[0m \u001b[0mdbtable\u001b[0m\u001b[0;34m)\u001b[0m\u001b[0;34m\u001b[0m\u001b[0m\n\u001b[0;32m----> 8\u001b[0;31m \u001b[0mconcessoes2016\u001b[0m \u001b[0;34m=\u001b[0m \u001b[0mconcessoes\u001b[0m\u001b[0;34m[\u001b[0m\u001b[0mconcessoes\u001b[0m\u001b[0;34m[\u001b[0m\u001b[0;34m'ano'\u001b[0m\u001b[0;34m]\u001b[0m \u001b[0;34m==\u001b[0m \u001b[0;36m2016\u001b[0m\u001b[0;34m]\u001b[0m\u001b[0;34m[\u001b[0m\u001b[0;34m'qtd'\u001b[0m\u001b[0;34m]\u001b[0m\u001b[0;34m.\u001b[0m\u001b[0miloc\u001b[0m\u001b[0;34m[\u001b[0m\u001b[0;36m0\u001b[0m\u001b[0;34m]\u001b[0m\u001b[0;34m\u001b[0m\u001b[0m\n\u001b[0m\u001b[1;32m      9\u001b[0m \u001b[0mprint\u001b[0m\u001b[0;34m(\u001b[0m\u001b[0;34m\"Total de benefícios concedidos em 2016: {}\"\u001b[0m\u001b[0;34m.\u001b[0m\u001b[0mformat\u001b[0m\u001b[0;34m(\u001b[0m\u001b[0mconcessoes2016\u001b[0m\u001b[0;34m)\u001b[0m\u001b[0;34m)\u001b[0m\u001b[0;34m\u001b[0m\u001b[0m\n\u001b[1;32m     10\u001b[0m \u001b[0;34m\u001b[0m\u001b[0m\n",
      "\u001b[0;32m/opt/conda/lib/python3.6/site-packages/pandas/core/indexing.py\u001b[0m in \u001b[0;36m__getitem__\u001b[0;34m(self, key)\u001b[0m\n\u001b[1;32m   1476\u001b[0m \u001b[0;34m\u001b[0m\u001b[0m\n\u001b[1;32m   1477\u001b[0m             \u001b[0mmaybe_callable\u001b[0m \u001b[0;34m=\u001b[0m \u001b[0mcom\u001b[0m\u001b[0;34m.\u001b[0m\u001b[0m_apply_if_callable\u001b[0m\u001b[0;34m(\u001b[0m\u001b[0mkey\u001b[0m\u001b[0;34m,\u001b[0m \u001b[0mself\u001b[0m\u001b[0;34m.\u001b[0m\u001b[0mobj\u001b[0m\u001b[0;34m)\u001b[0m\u001b[0;34m\u001b[0m\u001b[0m\n\u001b[0;32m-> 1478\u001b[0;31m             \u001b[0;32mreturn\u001b[0m \u001b[0mself\u001b[0m\u001b[0;34m.\u001b[0m\u001b[0m_getitem_axis\u001b[0m\u001b[0;34m(\u001b[0m\u001b[0mmaybe_callable\u001b[0m\u001b[0;34m,\u001b[0m \u001b[0maxis\u001b[0m\u001b[0;34m=\u001b[0m\u001b[0maxis\u001b[0m\u001b[0;34m)\u001b[0m\u001b[0;34m\u001b[0m\u001b[0m\n\u001b[0m\u001b[1;32m   1479\u001b[0m \u001b[0;34m\u001b[0m\u001b[0m\n\u001b[1;32m   1480\u001b[0m     \u001b[0;32mdef\u001b[0m \u001b[0m_is_scalar_access\u001b[0m\u001b[0;34m(\u001b[0m\u001b[0mself\u001b[0m\u001b[0;34m,\u001b[0m \u001b[0mkey\u001b[0m\u001b[0;34m)\u001b[0m\u001b[0;34m:\u001b[0m\u001b[0;34m\u001b[0m\u001b[0m\n",
      "\u001b[0;32m/opt/conda/lib/python3.6/site-packages/pandas/core/indexing.py\u001b[0m in \u001b[0;36m_getitem_axis\u001b[0;34m(self, key, axis)\u001b[0m\n\u001b[1;32m   2100\u001b[0m \u001b[0;34m\u001b[0m\u001b[0m\n\u001b[1;32m   2101\u001b[0m             \u001b[0;31m# validate the location\u001b[0m\u001b[0;34m\u001b[0m\u001b[0;34m\u001b[0m\u001b[0m\n\u001b[0;32m-> 2102\u001b[0;31m             \u001b[0mself\u001b[0m\u001b[0;34m.\u001b[0m\u001b[0m_validate_integer\u001b[0m\u001b[0;34m(\u001b[0m\u001b[0mkey\u001b[0m\u001b[0;34m,\u001b[0m \u001b[0maxis\u001b[0m\u001b[0;34m)\u001b[0m\u001b[0;34m\u001b[0m\u001b[0m\n\u001b[0m\u001b[1;32m   2103\u001b[0m \u001b[0;34m\u001b[0m\u001b[0m\n\u001b[1;32m   2104\u001b[0m             \u001b[0;32mreturn\u001b[0m \u001b[0mself\u001b[0m\u001b[0;34m.\u001b[0m\u001b[0m_get_loc\u001b[0m\u001b[0;34m(\u001b[0m\u001b[0mkey\u001b[0m\u001b[0;34m,\u001b[0m \u001b[0maxis\u001b[0m\u001b[0;34m=\u001b[0m\u001b[0maxis\u001b[0m\u001b[0;34m)\u001b[0m\u001b[0;34m\u001b[0m\u001b[0m\n",
      "\u001b[0;32m/opt/conda/lib/python3.6/site-packages/pandas/core/indexing.py\u001b[0m in \u001b[0;36m_validate_integer\u001b[0;34m(self, key, axis)\u001b[0m\n\u001b[1;32m   2007\u001b[0m         \u001b[0ml\u001b[0m \u001b[0;34m=\u001b[0m \u001b[0mlen\u001b[0m\u001b[0;34m(\u001b[0m\u001b[0max\u001b[0m\u001b[0;34m)\u001b[0m\u001b[0;34m\u001b[0m\u001b[0m\n\u001b[1;32m   2008\u001b[0m         \u001b[0;32mif\u001b[0m \u001b[0mkey\u001b[0m \u001b[0;34m>=\u001b[0m \u001b[0ml\u001b[0m \u001b[0;32mor\u001b[0m \u001b[0mkey\u001b[0m \u001b[0;34m<\u001b[0m \u001b[0;34m-\u001b[0m\u001b[0ml\u001b[0m\u001b[0;34m:\u001b[0m\u001b[0;34m\u001b[0m\u001b[0m\n\u001b[0;32m-> 2009\u001b[0;31m             \u001b[0;32mraise\u001b[0m \u001b[0mIndexError\u001b[0m\u001b[0;34m(\u001b[0m\u001b[0;34m\"single positional indexer is out-of-bounds\"\u001b[0m\u001b[0;34m)\u001b[0m\u001b[0;34m\u001b[0m\u001b[0m\n\u001b[0m\u001b[1;32m   2010\u001b[0m \u001b[0;34m\u001b[0m\u001b[0m\n\u001b[1;32m   2011\u001b[0m     \u001b[0;32mdef\u001b[0m \u001b[0m_getitem_tuple\u001b[0m\u001b[0;34m(\u001b[0m\u001b[0mself\u001b[0m\u001b[0;34m,\u001b[0m \u001b[0mtup\u001b[0m\u001b[0;34m)\u001b[0m\u001b[0;34m:\u001b[0m\u001b[0;34m\u001b[0m\u001b[0m\n",
      "\u001b[0;31mIndexError\u001b[0m: single positional indexer is out-of-bounds"
     ]
    }
   ],
   "source": [
    "# Connect to an existing database\n",
    "try:\n",
    "    conn = psycopg2.connect(\"host='{}' port={} dbname='{}'user={} password={}\"\n",
    "            .format(host, port, dbname, user, pwd))\n",
    "except:\n",
    "        print(\"Unable to connect to the database\")\n",
    "concessoes = dp.concessoes(i,np.arange(1995, 2017),s,c,k,conn, dbtable)\n",
    "concessoes2016 = concessoes[concessoes['ano'] == 2016]['qtd'].iloc[0]\n",
    "print(\"Total de benefícios concedidos em 2016: {}\".format(concessoes2016))\n",
    "\n",
    "# Create Figure and add set of axes (empty canvas)\n",
    "fig = plt.figure()\n",
    "axes = fig.add_axes([0.1, 0.1, 0.8, 0.8])\n",
    "\n",
    "# Plot on that set of axes\n",
    "axes.plot(concessoes['ano'], concessoes['qtd'], 'b.-')\n",
    "axes.set_xlabel('Ano')\n",
    "axes.set_ylabel('Taxa de Fecundidade')\n",
    "axes.set_title('Aposentadorias concedidas por Ano')"
   ]
  },
  {
   "cell_type": "markdown",
   "metadata": {},
   "source": [
    "### Probabilidade de Entrada - $Pe(i, t, s, c, k)$\n",
    "\n",
    "Calculada para o ano de referência de 2016"
   ]
  },
  {
   "cell_type": "code",
   "execution_count": null,
   "metadata": {},
   "outputs": [],
   "source": [
    "pop2016 = pop[pop['Ano'] == 2016]['Brasil'].iloc[0]\n",
    "Pe = concessoes2016 / pop2016\n",
    "print(\"Pe = concessões/ população = {}/{} = {}\".format(concessoes2016, pop2016, Pe))"
   ]
  },
  {
   "cell_type": "markdown",
   "metadata": {},
   "source": [
    "### Fluxo de Entrada - $Fe(i,t,s,c,k)$"
   ]
  },
  {
   "cell_type": "code",
   "execution_count": null,
   "metadata": {},
   "outputs": [],
   "source": [
    "Pe*206081432"
   ]
  },
  {
   "cell_type": "code",
   "execution_count": null,
   "metadata": {},
   "outputs": [],
   "source": [
    "pop['Fe'] = pop['Brasil'].apply(lambda x: x*Pe)\n",
    "#pop[pop['Ano'] > 2015][['Ano', 'Brasil', 'Fe']]\n",
    "\n",
    "# Create Figure and add set of axes (empty canvas)\n",
    "fig = plt.figure()\n",
    "axes = fig.add_axes([0.1, 0.1, 0.8, 0.8])\n",
    "\n",
    "# Plot on that set of axes\n",
    "axes.plot(pop['Ano'], pop['Fe'], 'b.-')\n",
    "axes.set_xlabel('Ano')\n",
    "axes.set_ylabel('Quantidade de novas Aposentadorias')\n",
    "axes.set_title('Estimativa de Fluxo de Novos Benefícios')"
   ]
  },
  {
   "cell_type": "markdown",
   "metadata": {},
   "source": [
    "### Probabilidade de Sobreviver - $Ps(i,t,s)$"
   ]
  },
  {
   "cell_type": "markdown",
   "metadata": {},
   "source": [
    "### Estoque de Benefícios - $Eb(i,t,s,c,k)$"
   ]
  },
  {
   "cell_type": "markdown",
   "metadata": {},
   "source": [
    "# Referências"
   ]
  },
  {
   "cell_type": "markdown",
   "metadata": {},
   "source": [
    "* [Dados Abertos Previdência Social](http://www.previdencia.gov.br/dados-abertos/dados-abertos-previdencia-social/)\n",
    " * [Anuário estatístico da Previdência Social em 2015](http://www.previdencia.gov.br/wp-content/uploads/2015/08/AEPS-2015-FINAL.pdf)\n",
    " * [Anuário estatístico da Previdência Social em 2016](http://sa.previdencia.gov.br/site/2018/08/aeps2016.pdf)\n",
    "   * [Principais resultados](http://sa.previdencia.gov.br/site/2018/02/Apresenta%C3%A7%C3%A3o-Alexandre-Ziole-AEPS-2016-003.pdf)\n",
    "* [CPIPREV](https://legis.senado.leg.br/comissoes/docsRecCPI?codcol=2093 \"DOC090 / Midia 018 and DOC097 e Midia 019\") \n",
    "* [Wiki do projeto](https://prev.andrepereira.eng.br) \n",
    "* IBGE\n",
    " * [IBGE, contagem da População 2007](https://ww2.ibge.gov.br/home/estatistica/populacao/contagem2007/contagem.pdf)\n",
    " * [IBGE, Estimativas de população](http://dados.gov.br/dataset/xf-estimativas-de-populacao)"
   ]
  },
  {
   "cell_type": "code",
   "execution_count": null,
   "metadata": {},
   "outputs": [],
   "source": [
    "# Print out elapsed time                                                        \n",
    "elapsed_time = (time.time() - start_time) / 60                                  \n",
    "print(\"\\nExecution time: {0:0.4f} minutes.\".format(elapsed_time))"
   ]
  }
 ],
 "metadata": {
  "kernelspec": {
   "display_name": "Python 3",
   "language": "python",
   "name": "python3"
  },
  "language_info": {
   "codemirror_mode": {
    "name": "ipython",
    "version": 3
   },
   "file_extension": ".py",
   "mimetype": "text/x-python",
   "name": "python",
   "nbconvert_exporter": "python",
   "pygments_lexer": "ipython3",
   "version": "3.6.6"
  },
  "toc-autonumbering": true,
  "toc-showcode": false,
  "toc-showmarkdowntxt": false,
  "toc-showtags": false
 },
 "nbformat": 4,
 "nbformat_minor": 2
}
