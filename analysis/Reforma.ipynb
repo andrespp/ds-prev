{
 "cells": [
  {
   "cell_type": "markdown",
   "metadata": {},
   "source": [
    "# Reforma"
   ]
  },
  {
   "cell_type": "markdown",
   "metadata": {},
   "source": [
    "## Preâmbulo"
   ]
  },
  {
   "cell_type": "code",
   "execution_count": 1,
   "metadata": {},
   "outputs": [],
   "source": [
    "import numpy as np\n",
    "import pandas as pd\n",
    "import psycopg2\n",
    "import pandas.io.sql as sqlio\n",
    "import time\n",
    "\n",
    "# Track execution time                                                          \n",
    "start_time = time.time()"
   ]
  },
  {
   "cell_type": "markdown",
   "metadata": {},
   "source": [
    "### Parâmetros"
   ]
  },
  {
   "cell_type": "code",
   "execution_count": 2,
   "metadata": {},
   "outputs": [],
   "source": [
    "# Simulation Parameters\n",
    "#DBTABLE = 'FATO_AUXILIO_SAMPLE'\n",
    "DBTABLE = 'FATO_AUXILIO'\n",
    "ANO_INICIO = 1995\n",
    "ANO_FIM = 2016\n",
    "DADOS_FAZENDA = '../dataset/dados_fazenda.xlsx'\n",
    "\n",
    "# Conection parameters\n",
    "HOST='tama'\n",
    "PORT='5432'\n",
    "DBNAME='prevdb'\n",
    "USER='prevdb_user'\n",
    "PASS='pr3v'"
   ]
  },
  {
   "cell_type": "markdown",
   "metadata": {
    "toc-hr-collapsed": false
   },
   "source": [
    "### Biblioteca"
   ]
  },
  {
   "cell_type": "code",
   "execution_count": 3,
   "metadata": {},
   "outputs": [],
   "source": [
    "def ds_query(sql_query):\n",
    "    \"\"\"\n",
    "        Query Dataset\n",
    "\n",
    "    Parâmetros\n",
    "    ----------\n",
    "        sql : string\n",
    "            SQL query to be performed against the dataset\n",
    "        \n",
    "    Retorno\n",
    "    -------\n",
    "        Pandas Dataframe\n",
    "    \"\"\"\n",
    "    # Connect to an existing database\n",
    "    try:\n",
    "        conn = psycopg2.connect(\"host='{}' port={} dbname='{}'user={} password={}\"\n",
    "                .format(HOST, PORT, DBNAME, USER, PASS))\n",
    "        df = sqlio.read_sql_query(sql, conn)\n",
    "        # Close communication with the database                                     \n",
    "        conn.close()\n",
    "        return df\n",
    "    except:\n",
    "        print(\"Unable to connect to the database\")\n",
    "        return\n",
    "\n",
    "def get_ano_dib(ano_nasc, ano_inicio_contrib, sexo, clientela):\n",
    "    \"\"\"\n",
    "        Retorna ano mínimo para aposentadoria segundo PEC 6/2019\n",
    "\n",
    "    Parâmetros\n",
    "    ----------\n",
    "        ano_nasc : int\n",
    "            Ano de nascimento do contribuinte\n",
    "        ano_inicio_contrib : int\n",
    "            Ano em que o contribuinte iniciou suas contribuições\n",
    "        sexo : int\n",
    "            Sexo do contribuinte (1: masculino, 3: feminino)\n",
    "        clientela : int\n",
    "            Clientela do contribuinte (1: rural, 2: urbana)\n",
    "        \n",
    "    Retorno\n",
    "    -------\n",
    "        Inteiro indicando o ano mínimo em que a pessoa poderá se aposentar (-1 em caso de erro)\n",
    "    \"\"\"\n",
    "    if clientela == 1:\n",
    "        if sexo == 1:\n",
    "            ano_dib = (ano_nasc+60, ano_inicio_contrib+20)\n",
    "            return int(max(ano_dib))\n",
    "        elif sexo == 3:\n",
    "            ano_dib = (ano_nasc+60, ano_inicio_contrib+20)\n",
    "            return int(max(ano_dib))\n",
    "        \n",
    "    if clientela == 2:\n",
    "        if sexo == 1:\n",
    "            ano_dib = (ano_nasc+65, ano_inicio_contrib+20)\n",
    "            return int(max(ano_dib))\n",
    "        elif sexo == 3:\n",
    "            ano_dib = (ano_nasc+60, ano_inicio_contrib+20)\n",
    "            return int(max(ano_dib))\n",
    "    \n",
    "    else:\n",
    "        return -1\n",
    "\n",
    "def prob_sobrevivencia(ano, idade, sexo, sobrevida):\n",
    "    \"\"\"\n",
    "        Retorna propabilidade de uma pessoa com idade 'idade' no ano 'ano' sobreviver\n",
    "    por 'sobrevida' anos\n",
    "\n",
    "    Parâmetros\n",
    "    ----------\n",
    "        ano: int\n",
    "            Ano base para calculo da probabilidade\n",
    "        idade : int\n",
    "            Idade da pessoa no ano base\n",
    "        sexo : int\n",
    "            Sexo do contribuinte (1: masculino, 3: feminino)\n",
    "        sobrevida : int\n",
    "            Numero de anos de sobrevivencia\n",
    "        \n",
    "    Retorno\n",
    "    -------\n",
    "        Inteiro entre 0 e 1\n",
    "    \"\"\"\n",
    "    ano = int(ano)\n",
    "    idade = int(idade)\n",
    "    sexo = int(sexo)\n",
    "    sobrevida = int(sobrevida)\n",
    "    #print('{}, {}, {}, {}'.format(ano, idade, sexo, sobrevida))\n",
    "     \n",
    "    # Aproxima probabilidade caso parametros estejam fora dos limites dos dados\n",
    "    if ano<2000:\n",
    "        ano=2000\n",
    "    if sobrevida < 0:\n",
    "        return 1\n",
    "        \n",
    "    anoProjetado = ano + sobrevida\n",
    "    idadeProjetada = idade + sobrevida\n",
    "    \n",
    "    if anoProjetado > 2060:\n",
    "        anoProjetado = 2060\n",
    "    if anoProjetado < 2000:\n",
    "        anoProjetado = 2000\n",
    "    if idadeProjetada > 89:\n",
    "        idadeProjetada = 89\n",
    "    if idadeProjetada < 0:\n",
    "        idadeProjetada = 0\n",
    "    \n",
    "    # Calcula probabilidades\n",
    "    if sexo == 1:\n",
    "        return POPH[anoProjetado].loc[idadeProjetada] / POPH[ano].loc[idade]\n",
    "    elif sexo == 3:\n",
    "        return POPM[anoProjetado].loc[idadeProjetada] / POPM[ano].loc[idade]\n",
    "    else:\n",
    "        return -1"
   ]
  },
  {
   "cell_type": "markdown",
   "metadata": {
    "toc-hr-collapsed": false
   },
   "source": [
    "### Dados"
   ]
  },
  {
   "cell_type": "markdown",
   "metadata": {},
   "source": [
    "#### População"
   ]
  },
  {
   "cell_type": "code",
   "execution_count": 4,
   "metadata": {},
   "outputs": [],
   "source": [
    "POPH = pd.read_excel(DADOS_FAZENDA, sheet_name = 'PopIbgeH', index_col='ÍNDICE',nrows=91,dtype=int)\n",
    "POPM = pd.read_excel(DADOS_FAZENDA, sheet_name = 'PopIbgeM', index_col='ÍNDICE',nrows=91,dtype=int)"
   ]
  },
  {
   "cell_type": "code",
   "execution_count": 5,
   "metadata": {},
   "outputs": [
    {
     "data": {
      "text/plain": [
       "0.8796766592747769"
      ]
     },
     "execution_count": 5,
     "metadata": {},
     "output_type": "execute_result"
    }
   ],
   "source": [
    "#2010 60 anos -> 2020 -> 70 anos\n",
    "POPM[2010].loc[60]\n",
    "gap = 70 - 60\n",
    "p = POPM[2010+gap].loc[60+gap] / POPM[2010].loc[60]\n",
    "p"
   ]
  },
  {
   "cell_type": "markdown",
   "metadata": {},
   "source": [
    "#### Fato Pessoa"
   ]
  },
  {
   "cell_type": "code",
   "execution_count": 6,
   "metadata": {},
   "outputs": [
    {
     "ename": "ValueError",
     "evalue": "cannot convert float NaN to integer",
     "output_type": "error",
     "traceback": [
      "\u001b[0;31m---------------------------------------------------------------------------\u001b[0m",
      "\u001b[0;31mValueError\u001b[0m                                Traceback (most recent call last)",
      "\u001b[0;32m<ipython-input-6-39c35731fc0d>\u001b[0m in \u001b[0;36m<module>\u001b[0;34m\u001b[0m\n\u001b[1;32m     15\u001b[0m \u001b[0;31m# Compute new attributes\u001b[0m\u001b[0;34m\u001b[0m\u001b[0;34m\u001b[0m\u001b[0;34m\u001b[0m\u001b[0m\n\u001b[1;32m     16\u001b[0m \u001b[0mdf\u001b[0m\u001b[0;34m[\u001b[0m\u001b[0;34m'ano_dib'\u001b[0m\u001b[0;34m]\u001b[0m \u001b[0;34m=\u001b[0m \u001b[0mdf\u001b[0m\u001b[0;34m[\u001b[0m\u001b[0;34m'dib'\u001b[0m\u001b[0;34m]\u001b[0m\u001b[0;34m.\u001b[0m\u001b[0mapply\u001b[0m\u001b[0;34m(\u001b[0m\u001b[0;32mlambda\u001b[0m \u001b[0mx\u001b[0m\u001b[0;34m:\u001b[0m \u001b[0mint\u001b[0m\u001b[0;34m(\u001b[0m\u001b[0mx\u001b[0m\u001b[0;34m/\u001b[0m\u001b[0;36m10000\u001b[0m\u001b[0;34m)\u001b[0m\u001b[0;34m)\u001b[0m\u001b[0;34m\u001b[0m\u001b[0;34m\u001b[0m\u001b[0m\n\u001b[0;32m---> 17\u001b[0;31m \u001b[0mdf\u001b[0m\u001b[0;34m[\u001b[0m\u001b[0;34m'ano_nasc'\u001b[0m\u001b[0;34m]\u001b[0m \u001b[0;34m=\u001b[0m \u001b[0mdf\u001b[0m\u001b[0;34m[\u001b[0m\u001b[0;34m'dt_nasc'\u001b[0m\u001b[0;34m]\u001b[0m\u001b[0;34m.\u001b[0m\u001b[0mapply\u001b[0m\u001b[0;34m(\u001b[0m\u001b[0;32mlambda\u001b[0m \u001b[0mx\u001b[0m\u001b[0;34m:\u001b[0m \u001b[0mint\u001b[0m\u001b[0;34m(\u001b[0m\u001b[0mx\u001b[0m\u001b[0;34m/\u001b[0m\u001b[0;36m10000\u001b[0m\u001b[0;34m)\u001b[0m\u001b[0;34m)\u001b[0m\u001b[0;34m\u001b[0m\u001b[0;34m\u001b[0m\u001b[0m\n\u001b[0m\u001b[1;32m     18\u001b[0m \u001b[0mdf\u001b[0m\u001b[0;34m[\u001b[0m\u001b[0;34m'ano_inicio_contrib'\u001b[0m\u001b[0;34m]\u001b[0m \u001b[0;34m=\u001b[0m \u001b[0mdf\u001b[0m\u001b[0;34m.\u001b[0m\u001b[0mapply\u001b[0m\u001b[0;34m(\u001b[0m\u001b[0;32mlambda\u001b[0m \u001b[0mx\u001b[0m\u001b[0;34m:\u001b[0m \u001b[0mint\u001b[0m\u001b[0;34m(\u001b[0m\u001b[0mx\u001b[0m\u001b[0;34m[\u001b[0m\u001b[0;34m'ano_dib'\u001b[0m\u001b[0;34m]\u001b[0m \u001b[0;34m-\u001b[0m \u001b[0mx\u001b[0m\u001b[0;34m[\u001b[0m\u001b[0;34m'tempo_contrib'\u001b[0m\u001b[0;34m]\u001b[0m\u001b[0;34m)\u001b[0m\u001b[0;34m,\u001b[0m \u001b[0maxis\u001b[0m\u001b[0;34m=\u001b[0m\u001b[0;36m1\u001b[0m\u001b[0;34m)\u001b[0m\u001b[0;34m\u001b[0m\u001b[0;34m\u001b[0m\u001b[0m\n\u001b[1;32m     19\u001b[0m \u001b[0;34m\u001b[0m\u001b[0m\n",
      "\u001b[0;32m/opt/conda/lib/python3.7/site-packages/pandas/core/series.py\u001b[0m in \u001b[0;36mapply\u001b[0;34m(self, func, convert_dtype, args, **kwds)\u001b[0m\n\u001b[1;32m   3192\u001b[0m             \u001b[0;32melse\u001b[0m\u001b[0;34m:\u001b[0m\u001b[0;34m\u001b[0m\u001b[0;34m\u001b[0m\u001b[0m\n\u001b[1;32m   3193\u001b[0m                 \u001b[0mvalues\u001b[0m \u001b[0;34m=\u001b[0m \u001b[0mself\u001b[0m\u001b[0;34m.\u001b[0m\u001b[0mastype\u001b[0m\u001b[0;34m(\u001b[0m\u001b[0mobject\u001b[0m\u001b[0;34m)\u001b[0m\u001b[0;34m.\u001b[0m\u001b[0mvalues\u001b[0m\u001b[0;34m\u001b[0m\u001b[0;34m\u001b[0m\u001b[0m\n\u001b[0;32m-> 3194\u001b[0;31m                 \u001b[0mmapped\u001b[0m \u001b[0;34m=\u001b[0m \u001b[0mlib\u001b[0m\u001b[0;34m.\u001b[0m\u001b[0mmap_infer\u001b[0m\u001b[0;34m(\u001b[0m\u001b[0mvalues\u001b[0m\u001b[0;34m,\u001b[0m \u001b[0mf\u001b[0m\u001b[0;34m,\u001b[0m \u001b[0mconvert\u001b[0m\u001b[0;34m=\u001b[0m\u001b[0mconvert_dtype\u001b[0m\u001b[0;34m)\u001b[0m\u001b[0;34m\u001b[0m\u001b[0;34m\u001b[0m\u001b[0m\n\u001b[0m\u001b[1;32m   3195\u001b[0m \u001b[0;34m\u001b[0m\u001b[0m\n\u001b[1;32m   3196\u001b[0m         \u001b[0;32mif\u001b[0m \u001b[0mlen\u001b[0m\u001b[0;34m(\u001b[0m\u001b[0mmapped\u001b[0m\u001b[0;34m)\u001b[0m \u001b[0;32mand\u001b[0m \u001b[0misinstance\u001b[0m\u001b[0;34m(\u001b[0m\u001b[0mmapped\u001b[0m\u001b[0;34m[\u001b[0m\u001b[0;36m0\u001b[0m\u001b[0;34m]\u001b[0m\u001b[0;34m,\u001b[0m \u001b[0mSeries\u001b[0m\u001b[0;34m)\u001b[0m\u001b[0;34m:\u001b[0m\u001b[0;34m\u001b[0m\u001b[0;34m\u001b[0m\u001b[0m\n",
      "\u001b[0;32mpandas/_libs/src/inference.pyx\u001b[0m in \u001b[0;36mpandas._libs.lib.map_infer\u001b[0;34m()\u001b[0m\n",
      "\u001b[0;32m<ipython-input-6-39c35731fc0d>\u001b[0m in \u001b[0;36m<lambda>\u001b[0;34m(x)\u001b[0m\n\u001b[1;32m     15\u001b[0m \u001b[0;31m# Compute new attributes\u001b[0m\u001b[0;34m\u001b[0m\u001b[0;34m\u001b[0m\u001b[0;34m\u001b[0m\u001b[0m\n\u001b[1;32m     16\u001b[0m \u001b[0mdf\u001b[0m\u001b[0;34m[\u001b[0m\u001b[0;34m'ano_dib'\u001b[0m\u001b[0;34m]\u001b[0m \u001b[0;34m=\u001b[0m \u001b[0mdf\u001b[0m\u001b[0;34m[\u001b[0m\u001b[0;34m'dib'\u001b[0m\u001b[0;34m]\u001b[0m\u001b[0;34m.\u001b[0m\u001b[0mapply\u001b[0m\u001b[0;34m(\u001b[0m\u001b[0;32mlambda\u001b[0m \u001b[0mx\u001b[0m\u001b[0;34m:\u001b[0m \u001b[0mint\u001b[0m\u001b[0;34m(\u001b[0m\u001b[0mx\u001b[0m\u001b[0;34m/\u001b[0m\u001b[0;36m10000\u001b[0m\u001b[0;34m)\u001b[0m\u001b[0;34m)\u001b[0m\u001b[0;34m\u001b[0m\u001b[0;34m\u001b[0m\u001b[0m\n\u001b[0;32m---> 17\u001b[0;31m \u001b[0mdf\u001b[0m\u001b[0;34m[\u001b[0m\u001b[0;34m'ano_nasc'\u001b[0m\u001b[0;34m]\u001b[0m \u001b[0;34m=\u001b[0m \u001b[0mdf\u001b[0m\u001b[0;34m[\u001b[0m\u001b[0;34m'dt_nasc'\u001b[0m\u001b[0;34m]\u001b[0m\u001b[0;34m.\u001b[0m\u001b[0mapply\u001b[0m\u001b[0;34m(\u001b[0m\u001b[0;32mlambda\u001b[0m \u001b[0mx\u001b[0m\u001b[0;34m:\u001b[0m \u001b[0mint\u001b[0m\u001b[0;34m(\u001b[0m\u001b[0mx\u001b[0m\u001b[0;34m/\u001b[0m\u001b[0;36m10000\u001b[0m\u001b[0;34m)\u001b[0m\u001b[0;34m)\u001b[0m\u001b[0;34m\u001b[0m\u001b[0;34m\u001b[0m\u001b[0m\n\u001b[0m\u001b[1;32m     18\u001b[0m \u001b[0mdf\u001b[0m\u001b[0;34m[\u001b[0m\u001b[0;34m'ano_inicio_contrib'\u001b[0m\u001b[0;34m]\u001b[0m \u001b[0;34m=\u001b[0m \u001b[0mdf\u001b[0m\u001b[0;34m.\u001b[0m\u001b[0mapply\u001b[0m\u001b[0;34m(\u001b[0m\u001b[0;32mlambda\u001b[0m \u001b[0mx\u001b[0m\u001b[0;34m:\u001b[0m \u001b[0mint\u001b[0m\u001b[0;34m(\u001b[0m\u001b[0mx\u001b[0m\u001b[0;34m[\u001b[0m\u001b[0;34m'ano_dib'\u001b[0m\u001b[0;34m]\u001b[0m \u001b[0;34m-\u001b[0m \u001b[0mx\u001b[0m\u001b[0;34m[\u001b[0m\u001b[0;34m'tempo_contrib'\u001b[0m\u001b[0;34m]\u001b[0m\u001b[0;34m)\u001b[0m\u001b[0;34m,\u001b[0m \u001b[0maxis\u001b[0m\u001b[0;34m=\u001b[0m\u001b[0;36m1\u001b[0m\u001b[0;34m)\u001b[0m\u001b[0;34m\u001b[0m\u001b[0;34m\u001b[0m\u001b[0m\n\u001b[1;32m     19\u001b[0m \u001b[0;34m\u001b[0m\u001b[0m\n",
      "\u001b[0;31mValueError\u001b[0m: cannot convert float NaN to integer"
     ]
    }
   ],
   "source": [
    "sql = \"\"\"\n",
    "SELECT *\n",
    "FROM {table_name}\n",
    "WHERE DIB > {ano}*10000\n",
    "    AND ESPECIE IN (41, 42)  -- APOSENTADORIA POR IDADE / TEMPO DE SERVIÇO\n",
    "    AND CLIENTELA = 1 -- URBANA\n",
    "    AND SEXO IN (3, 1)      -- MULHERES / HOMENS\n",
    "\"\"\".format(table_name=DBTABLE,\n",
    "           ano=ANO_INICIO)\n",
    "df = ds_query(sql)\n",
    "\n",
    "# Cleanup nulls and fix data types\n",
    "df['dt_obito'] = df['dt_obito'].apply(lambda x: int(x) if x==x else 0)\n",
    "\n",
    "# Compute new attributes\n",
    "df['ano_dib'] = df['dib'].apply(lambda x: int(x/10000))\n",
    "df['ano_nasc'] = df['dt_nasc'].apply(lambda x: int(x/10000))\n",
    "df['ano_inicio_contrib'] = df.apply(lambda x: int(x['ano_dib'] - x['tempo_contrib']), axis=1)\n",
    "\n",
    "# Compute PEC 6/2019 attributes\n",
    "df['pec6_ano_dib'] = df.apply(lambda x: get_ano_dib(x['ano_nasc'], \n",
    "                                                    x['ano_inicio_contrib'], \n",
    "                                                    x['sexo'],\n",
    "                                                    x['clientela']), \n",
    "                              axis=1)\n",
    "df['pec6_idade_dib'] = df.apply(lambda x: int(x['pec6_ano_dib'] - x['ano_nasc']), axis=1)\n",
    "df['pec6_gap'] = df.apply(lambda x: int(x['pec6_idade_dib'] - x['idade_dib']), axis=1)\n",
    "df['pec6_prob'] = df.apply(lambda x: prob_sobrevivencia(x['ano_dib'],\n",
    "                                                        x['idade_dib'],\n",
    "                                                        x['sexo'],\n",
    "                                                        x['pec6_gap']), \n",
    "                           axis=1)\n",
    "\n",
    "# FATO_PESSOA\n",
    "fato_pessoa = df[['ano_nasc','dt_nasc','dt_obito','sexo', 'clientela',\n",
    "                  'ano_inicio_contrib', 'ano_dib','idade_dib','tempo_contrib',\n",
    "                  'especie', 'pec6_ano_dib', 'pec6_idade_dib', 'pec6_gap',\n",
    "                  'pec6_prob'\n",
    "                 ]]\n",
    "fato_pessoa\n",
    "#fato_pessoa[['dib_ano','dt_nasc']].groupby('dib_ano').count()\n",
    "#fato_pessoa[['dib_ano','idade_dib']].groupby('idade_dib').count()"
   ]
  },
  {
   "cell_type": "markdown",
   "metadata": {},
   "source": [
    "## Simulação"
   ]
  },
  {
   "cell_type": "markdown",
   "metadata": {},
   "source": [
    "### Aposentados RGPS em ANO_FIM"
   ]
  },
  {
   "cell_type": "code",
   "execution_count": null,
   "metadata": {},
   "outputs": [],
   "source": [
    "sql = \"\"\"\n",
    "SELECT \n",
    "\tESPECIE\n",
    "\t,DIB\n",
    "\t,CLIENTELA\n",
    "\t,SEXO\n",
    "\t,SITUACAO\n",
    "\t,TEMPO_CONTRIB\n",
    "\t,IDADE_DIB\n",
    "\t,VL_RMI\n",
    "FROM {table_name}\n",
    "WHERE DIB > {ano}*10000 AND DIB < ({ano}+1)*10000\n",
    "\tAND ESPECIE = 41 -- APOSENTADORIA POR IDADE\n",
    "    AND SEXO = 1     -- HOMENS\n",
    "\"\"\".format(table_name=DBTABLE,\n",
    "           ano=ANO_FIM)\n",
    "df = ds_query(sql)"
   ]
  },
  {
   "cell_type": "code",
   "execution_count": null,
   "metadata": {},
   "outputs": [],
   "source": [
    "print('ANO FIM = {}'.format(ANO_FIM))\n",
    "df[['idade_dib','sexo']].groupby('idade_dib').count()"
   ]
  },
  {
   "cell_type": "markdown",
   "metadata": {},
   "source": [
    "### Aposentados PEC 6/2019 em ANO_FIM"
   ]
  },
  {
   "cell_type": "code",
   "execution_count": null,
   "metadata": {},
   "outputs": [],
   "source": [
    "print('ANO FIM = {}'.format(ANO_FIM))\n",
    "df = fato_pessoa[fato_pessoa['pec6_ano_dib']==ANO_FIM][['pec6_idade_dib','pec6_prob']]\n",
    "df = df.groupby('pec6_idade_dib').sum()\n",
    "df['qtd'] = df['pec6_prob'].apply(lambda x: round(x))\n",
    "df"
   ]
  },
  {
   "cell_type": "markdown",
   "metadata": {},
   "source": [
    "## Considerações"
   ]
  },
  {
   "cell_type": "markdown",
   "metadata": {},
   "source": [
    "* **Probabilidade de a pessoa não querer se aposentar na idade mínima**\n",
    " * Utilizar probabilidades da base?\n",
    " * Como mensurar a \"vontade de trabalhar mais para aumentar o valor do benefício\"?\n",
    "* **Aposentadoria por idade de homens**\n",
    " * Não sofre alterações em termos de quantidade na PEC 6/2019?\n",
    "* **Tempo de Contribuição**\n",
    " * É válido condisiderar que o ano de inicio de contribuição como:  `ano_inicio_contrib = ano_dib - tempo_contrib`\n",
    " * Essa abordagem desconsidera períodos de desemprego/i"
   ]
  },
  {
   "cell_type": "markdown",
   "metadata": {},
   "source": [
    "## Cleanup"
   ]
  },
  {
   "cell_type": "code",
   "execution_count": null,
   "metadata": {},
   "outputs": [],
   "source": [
    "# Print out elapsed time                                                        \n",
    "elapsed_time = (time.time() - start_time) / 60                                  \n",
    "print(\"\\nExecution time: {0:0.4f} minutes.\".format(elapsed_time))"
   ]
  }
 ],
 "metadata": {
  "kernelspec": {
   "display_name": "Python 3",
   "language": "python",
   "name": "python3"
  },
  "language_info": {
   "codemirror_mode": {
    "name": "ipython",
    "version": 3
   },
   "file_extension": ".py",
   "mimetype": "text/x-python",
   "name": "python",
   "nbconvert_exporter": "python",
   "pygments_lexer": "ipython3",
   "version": "3.7.1"
  }
 },
 "nbformat": 4,
 "nbformat_minor": 2
}
